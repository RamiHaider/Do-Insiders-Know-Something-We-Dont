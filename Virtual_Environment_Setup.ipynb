{
 "cells": [
  {
   "cell_type": "markdown",
   "id": "4e07a762",
   "metadata": {},
   "source": [
    "# Creating a Virtual Environment (CONDA)\n",
    "This is a quick markdown to setup a virtual environment using Conda. This will contain all of the libraries necessary to run the Insdier Trading Project used in Milestone I of the Master of Applied Data Science Program. It's important to note that if this virtual environment already exists, this notebook will fail. Let's start by looking at the environment.yml file for conda environments."
   ]
  },
  {
   "cell_type": "code",
   "execution_count": 4,
   "id": "3ca4e160",
   "metadata": {},
   "outputs": [
    {
     "name": "stdout",
     "output_type": "stream",
     "text": [
      "Contents of environment.yml:\n",
      "\n",
      "name: InsiderTrading\n",
      "channels:\n",
      "  - conda-forge\n",
      "  - defaults\n",
      "dependencies:\n",
      "  - _openmp_mutex=4.5\n",
      "  - appdirs=1.4.4\n",
      "  - asttokens=3.0.0\n",
      "  - beautifulsoup4=4.12.3\n",
      "  - blas=1.0\n",
      "  - bottleneck=1.4.2\n",
      "  - brotli-python=1.0.9\n",
      "  - bzip2=1.0.8\n",
      "  - ca-certificates=2025.4.26\n",
      "  - certifi=2025.4.26\n",
      "  - charset-normalizer=3.3.2\n",
      "  - colorama=0.4.6\n",
      "  - comm=0.2.2\n",
      "  - contourpy=1.3.1\n",
      "  - cpython=3.13.3\n",
      "  - cycler=0.11.0\n",
      "  - debugpy=1.8.14\n",
      "  - decorator=5.2.1\n",
      "  - exceptiongroup=1.3.0\n",
      "  - executing=2.2.0\n",
      "  - fonttools=4.55.3\n",
      "  - freetype=2.13.3\n",
      "  - frozendict=2.4.2\n",
      "  - glib=2.84.2\n",
      "  - glib-tools=2.84.2\n",
      "  - gst-plugins-base=1.24.11\n",
      "  - gstreamer=1.24.11\n",
      "  - html5lib=1.1\n",
      "  - icc_rt=2022.1.0\n",
      "  - icu=75.1\n",
      "  - idna=3.7\n",
      "  - importlib-metadata=8.7.0\n",
      "  - intel-openmp=2023.1.0\n",
      "  - ipykernel=6.29.5\n",
      "  - ipython=9.3.0\n",
      "  - ipython_pygments_lexers=1.1.1\n",
      "  - ipywidgets=8.1.7\n",
      "  - jedi=0.19.2\n",
      "  - jupyter_client=8.6.3\n",
      "  - jupyter_core=5.8.1\n",
      "  - jupyterlab_widgets=3.0.15\n",
      "  - kiwisolver=1.4.8\n",
      "  - krb5=1.21.3\n",
      "  - lcms2=2.17\n",
      "  - lerc=4.0.0\n",
      "  - libclang13=20.1.6\n",
      "  - libdeflate=1.24\n",
      "  - libexpat=2.7.0\n",
      "  - libffi=3.4.6\n",
      "  - libfreetype=2.13.3\n",
      "  - libfreetype6=2.13.3\n",
      "  - libgcc=15.1.0\n",
      "  - libglib=2.84.2\n",
      "  - libgomp=15.1.0\n",
      "  - libiconv=1.18\n",
      "  - libintl=0.22.5\n",
      "  - libintl-devel=0.22.5\n",
      "  - libjpeg-turbo=3.1.0\n",
      "  - liblzma=5.8.1\n",
      "  - libmpdec=4.0.0\n",
      "  - libogg=1.3.5\n",
      "  - libpng=1.6.47\n",
      "  - libsodium=1.0.20\n",
      "  - libsqlite=3.50.1\n",
      "  - libtiff=4.7.0\n",
      "  - libvorbis=1.3.7\n",
      "  - libwebp-base=1.5.0\n",
      "  - libwinpthread=12.0.0.r4.gg4f2fc60ca\n",
      "  - libxcb=1.17.0\n",
      "  - libxml2=2.13.8\n",
      "  - libxslt=1.1.41\n",
      "  - libzlib=1.3.1\n",
      "  - lxml=5.4.0\n",
      "  - matplotlib=3.10.0\n",
      "  - matplotlib-base=3.10.0\n",
      "  - matplotlib-inline=0.1.7\n",
      "  - mkl=2023.1.0\n",
      "  - mkl-service=2.4.0\n",
      "  - mkl_fft=1.3.11\n",
      "  - mkl_random=1.2.8\n",
      "  - multitasking=0.0.9\n",
      "  - nest-asyncio=1.6.0\n",
      "  - numexpr=2.10.1\n",
      "  - numpy=2.2.5\n",
      "  - numpy-base=2.2.5\n",
      "  - openjpeg=2.5.3\n",
      "  - openssl=3.5.0\n",
      "  - packaging=25.0\n",
      "  - pandas=2.2.3\n",
      "  - parso=0.8.4\n",
      "  - pcre2=10.45\n",
      "  - peewee=3.18.1\n",
      "  - pickleshare=0.7.5\n",
      "  - pillow=11.2.1\n",
      "  - pip=25.1.1\n",
      "  - platformdirs=4.3.8\n",
      "  - ply=3.11\n",
      "  - prompt-toolkit=3.0.51\n",
      "  - psutil=7.0.0\n",
      "  - pthread-stubs=0.3\n",
      "  - pure_eval=0.2.3\n",
      "  - pygments=2.19.1\n",
      "  - pyparsing=3.2.0\n",
      "  - pyqt=5.15.10\n",
      "  - pyqt5-sip=12.13.0\n",
      "  - pysocks=1.7.1\n",
      "  - python=3.13.3\n",
      "  - python-dateutil=2.9.0.post0\n",
      "  - python-tzdata=2025.2\n",
      "  - python_abi=3.13\n",
      "  - pytz=2024.1\n",
      "  - pywin32=307\n",
      "  - pyzmq=26.4.0\n",
      "  - qt-main=5.15.15\n",
      "  - requests=2.32.3\n",
      "  - scipy=1.15.3\n",
      "  - seaborn=0.13.2\n",
      "  - setuptools=72.1.0\n",
      "  - sip=6.7.12\n",
      "  - six=1.17.0\n",
      "  - soupsieve=2.5\n",
      "  - stack_data=0.6.3\n",
      "  - tbb=2021.8.0\n",
      "  - tk=8.6.13\n",
      "  - tornado=6.5.1\n",
      "  - tqdm=4.67.1\n",
      "  - traitlets=5.14.3\n",
      "  - typing_extensions=4.14.0\n",
      "  - tzdata=2025b\n",
      "  - ucrt=10.0.22621.0\n",
      "  - urllib3=2.3.0\n",
      "  - vc=14.3\n",
      "  - vc14_runtime=14.42.34438\n",
      "  - vs2015_runtime=14.42.34438\n",
      "  - wcwidth=0.2.13\n",
      "  - webencodings=0.5.1\n",
      "  - widgetsnbextension=4.0.14\n",
      "  - win_inet_pton=1.1.0\n",
      "  - xorg-libxau=1.0.12\n",
      "  - xorg-libxdmcp=1.1.5\n",
      "  - zeromq=4.3.5\n",
      "  - zipp=3.23.0\n",
      "  - zstd=1.5.7\n",
      "  - pip:\n",
      "      - cachetools==5.5.2\n",
      "      - cffi==1.17.1\n",
      "      - curl-cffi==0.11.3\n",
      "      - google==3.0.0\n",
      "      - google-api-core==2.25.0\n",
      "      - google-auth==2.40.3\n",
      "      - google-auth-httplib2==0.2.0\n",
      "      - google-auth-oauthlib==1.2.2\n",
      "      - googleapis-common-protos==1.70.0\n",
      "      - httplib2==0.22.0\n",
      "      - oauthlib==3.2.2\n",
      "      - proto-plus==1.26.1\n",
      "      - protobuf==6.31.1\n",
      "      - pyasn1==0.6.1\n",
      "      - pyasn1-modules==0.4.2\n",
      "      - pycparser==2.22\n",
      "      - requests-oauthlib==2.0.0\n",
      "      - rsa==4.9.1\n",
      "      - uritemplate==4.2.0\n",
      "      - websockets==15.0.1\n",
      "      - yfinance==0.2.62\n",
      "prefix: C:\\Users\\tmacp\\anaconda3\\envs\\InsiderTrading\n",
      "\n"
     ]
    }
   ],
   "source": [
    "import os\n",
    "\n",
    "env_file = 'environment.yml'\n",
    "env_name = 'InsiderTrading'  \n",
    "\n",
    "#Let's check the contents of the environment file\n",
    "with open(env_file, 'r') as file:\n",
    "    print(f\"Contents of {env_file}:\\n\")\n",
    "    print(file.read())\n"
   ]
  },
  {
   "cell_type": "markdown",
   "id": "57455729",
   "metadata": {},
   "source": [
    "Now, in a terminal or in a trusted Jupyter environment we can set up a new conda virtual environment"
   ]
  },
  {
   "cell_type": "code",
   "execution_count": null,
   "id": "7a7dbb32",
   "metadata": {},
   "outputs": [],
   "source": [
    "#Create the conda environment\n",
    "#!conda env create -f environment.yml --name $env_name"
   ]
  },
  {
   "cell_type": "markdown",
   "id": "4f42af9a",
   "metadata": {},
   "source": [
    "Depending on the IDE you use, you may need to register the environment as a Jupyter Kernel so it can be selected from the kernel menu."
   ]
  },
  {
   "cell_type": "code",
   "execution_count": null,
   "id": "88de0a5f",
   "metadata": {},
   "outputs": [],
   "source": [
    "#Regsiter the env as a Jupyter kernel\n",
    "#!conda run -n $env_name python -m ipykernel install --user --name $env_name --display-name \"Python ({env_name})\""
   ]
  },
  {
   "cell_type": "markdown",
   "id": "db47afea",
   "metadata": {},
   "source": [
    "IMPORTANT - this has registered the virtual environment but you now have to manually select the kernel in your jupyter notebooks in order to run them in this enivornment. \n",
    "\n",
    "Finally, I am going to add a section in order to update the virutal environment file and requirements in the event that additional libraries are added in future research."
   ]
  },
  {
   "cell_type": "code",
   "execution_count": null,
   "id": "d8a0c079",
   "metadata": {},
   "outputs": [],
   "source": [
    "#create a .txt file that contains all versions\n",
    "#!conda list --export > requirements.txt\n",
    "\n",
    "#Create a conda environment file\n",
    "#!conda env export --no-builds > environment.yml"
   ]
  },
  {
   "cell_type": "markdown",
   "id": "3cbf6794",
   "metadata": {},
   "source": [
    "# Creating a Virtual Environment (PIP)\n",
    "This is a quick markdown to setup a virtual environment using pip. This will contain all of the libraries necessary to run the Insdier Trading Project used in Milestone I of the Master of Applied Data Science Program. It's important to note that if this virtual environment already exists, this notebook will fail. "
   ]
  },
  {
   "cell_type": "code",
   "execution_count": null,
   "id": "cb17bb46",
   "metadata": {},
   "outputs": [],
   "source": [
    "# Create a virtual environment\n",
    "#!python -m venv InsiderTrading"
   ]
  },
  {
   "cell_type": "markdown",
   "id": "a45dd67f",
   "metadata": {},
   "source": [
    "Now that we have created the virtual environment we now need to activate it."
   ]
  },
  {
   "cell_type": "code",
   "execution_count": null,
   "id": "da550391",
   "metadata": {},
   "outputs": [],
   "source": [
    "#Install ipykernel in the new virtual environment\n",
    "#!InsiderTrading\\Scripts\\pip install ipykernel \n",
    "\n",
    "#register the kernel\n",
    "#!InsiderTrading/bin/python -m ipykernel install --user --name=InsiderTrading --display-name \"Python (Insider Trading)\""
   ]
  },
  {
   "cell_type": "markdown",
   "id": "861668ba",
   "metadata": {},
   "source": [
    "Now that it is registered, you need to manually select the InsiderTrading kernel in your IDE. Once you have opened the kernel we can install the requirements.txt file. We will use a magic command to make sure it loads into our recently activated environment."
   ]
  },
  {
   "cell_type": "code",
   "execution_count": null,
   "id": "c7d16ecc",
   "metadata": {},
   "outputs": [],
   "source": [
    "# Load the InsderTrading libraries\n",
    "#%pip install -r requirements.txt"
   ]
  },
  {
   "cell_type": "markdown",
   "id": "42bcc91c",
   "metadata": {},
   "source": [
    "If we add libraries in future work and want to update the requirements file, run the following cell."
   ]
  },
  {
   "cell_type": "code",
   "execution_count": null,
   "id": "3078472b",
   "metadata": {},
   "outputs": [],
   "source": [
    "#Update the requirements.txt file\n",
    "#!pip freeze > requirements.txt"
   ]
  }
 ],
 "metadata": {
  "kernelspec": {
   "display_name": "InsiderTrading",
   "language": "python",
   "name": "python3"
  },
  "language_info": {
   "codemirror_mode": {
    "name": "ipython",
    "version": 3
   },
   "file_extension": ".py",
   "mimetype": "text/x-python",
   "name": "python",
   "nbconvert_exporter": "python",
   "pygments_lexer": "ipython3",
   "version": "3.13.3"
  }
 },
 "nbformat": 4,
 "nbformat_minor": 5
}
