{
 "cells": [
  {
   "cell_type": "markdown",
   "id": "ab16b612",
   "metadata": {},
   "source": [
    "# Meeting Notes: 5/13/2025  \n",
    "Meeting Summary: Insider Trading Project  \n",
    "\n",
    "Key Insights  \n",
    "- Project Focus: Analyzing whether CFO insider buys predict stock performance within 3-6 months  \n",
    "- Rationale: CFOs have superior information access and understanding of market expectations  \n",
    "- Time Frame: 3-6 months is critical because:  \n",
    "    - Swing trade rules require insiders hold stocks for 6 months  \n",
    "    - This period captures at least one earnings release  \n",
    "    - Earnings are the fundamental catalyst driving stock performance  \n",
    "\n",
    "Data Strategy  \n",
    "- Data Collection: Kirtland will complete downloading all insider trading data today  \n",
    "- Data Cleaning Challenges:  \n",
    "    - NaN values in \"insider title\" field  \n",
    "    - \"None\" values in ticker symbols  \n",
    "    - Standardizing date formats  \n",
    "\n",
    "Visualization Plan  \n",
    "- Dashboard Development: Rami will lead interactive dashboard creation  \n",
    "    - Comparison charts of CFO vs. other insider performance  \n",
    "    - Analysis of how CFO predictive power varies by industry  \n",
    "    - Box plots showing distribution at different time intervals  \n",
    "    - Ability to filter by insider role and time range  \n",
    "\n",
    "Implementation Details  \n",
    "- Technical Approach:  \n",
    "    - Dashboard will be web-based with server-side processing  \n",
    "    - Hosted on Vercel (free) with accessible URL  \n",
    "    - GitHub repo will be created for code sharing  \n",
    "    - Dashboard will initially use prototype data, then incorporate real analysis  \n",
    "\n",
    "Next Steps  \n",
    "- Thomas will refine the project proposal  \n",
    "- Kirtland will extract SIC codes for industry classification  \n",
    "- Rami will create visualization dashboard and GitHub repo  \n",
    "- Team will meet with advisor Kyle at 12:30 Eastern  \n",
    "\n",
    "Additional Considerations  \n",
    "- Need to avoid p-hacking by selecting timeframes in advance  \n",
    "- Moving averages will be used to identify true trends  \n",
    "- Data goes back 20 years to capture various market conditions  "
   ]
  }
 ],
 "metadata": {
  "language_info": {
   "name": "python"
  }
 },
 "nbformat": 4,
 "nbformat_minor": 5
}
