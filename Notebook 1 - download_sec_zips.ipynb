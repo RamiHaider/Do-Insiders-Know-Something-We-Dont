{
 "cells": [
  {
   "cell_type": "code",
   "execution_count": 4,
   "metadata": {
    "colab": {
     "base_uri": "https://localhost:8080/"
    },
    "executionInfo": {
     "elapsed": 19880,
     "status": "ok",
     "timestamp": 1748996588592,
     "user": {
      "displayName": "Kirtland Corregan",
      "userId": "12271392998891066272"
     },
     "user_tz": 240
    },
    "id": "PIEIoKr3CqyY",
    "outputId": "afbd93c4-15d1-49dd-8c28-e7f519727ea8"
   },
   "outputs": [
    {
     "name": "stdout",
     "output_type": "stream",
     "text": [
      "Current working directory: c:\\Users\\tmacp\\OneDrive\\Documents\\VSCode\\River Rose Financial\\Portfolio\\Insider Trading\n"
     ]
    }
   ],
   "source": [
    "# This notebook downloads archived quarterly SEC Form 4 ZIP files from sec.gov.\n",
    "# The data is stored locally for further processing and analysis.\n",
    "\n",
    "import requests\n",
    "import os\n",
    "\n",
    "#Get the current directory of the notebook\n",
    "notebook_dir = os.getcwd()\n",
    "#Explicity make sure to make this the working dirctory for consistency\n",
    "os.chdir(notebook_dir)\n",
    "print(f'Current working directory: {os.getcwd()}')\n",
    "\n",
    "#Create a function to download SEC Form 4 ZIP files\n",
    "def download_sec_zips(save_dir=\"sec_zips\"): # Saves to local session directory. Modify to change save directory.\n",
    "    os.makedirs(save_dir, exist_ok=True)\n",
    "    base_url = \"https://www.sec.gov/files/structureddata/data/insider-transactions-data-sets\" # Location of archived Form 4s.\n",
    "    headers = {\"User-Agent\": \"kirtland@umich.edu\"}  # SEC blocks anonymous requests; requires a valid email. Change email as needed.\n",
    "\n",
    "    failed = []\n",
    "\n",
    "    for year in range(2006, 2026):\n",
    "        for q in range(1, 5):\n",
    "            if year == 2025 and q > 1:\n",
    "                break  # Only through 2025 Q1, which is most recent.\n",
    "\n",
    "            filename = f\"{year}q{q}_form345.zip\"\n",
    "            url = f\"{base_url}/{filename}\"\n",
    "            local_path = os.path.join(save_dir, filename)\n",
    "\n",
    "            try:\n",
    "                r = requests.get(url, headers=headers, timeout=30)\n",
    "                if r.status_code == 200:  # 200 means download successful\n",
    "                    with open(local_path, \"wb\") as f:\n",
    "                        f.write(r.content)\n",
    "                    print(f\"Downloaded: {filename}\")\n",
    "                else:\n",
    "                    print(f\"Failed: {filename} (status {r.status_code})\")\n",
    "                    failed.append(filename)\n",
    "            except Exception as e:\n",
    "                print(f\"Error downloading {filename}: {e}\")\n",
    "                failed.append(filename)\n",
    "\n",
    "    if failed:\n",
    "        print(\"\\n Some files failed to download:\")\n",
    "        for f in failed:\n",
    "            print(\" -\", f)\n",
    "    else:\n",
    "        print(\"\\n All zip files downloaded successfully.\")\n"
   ]
  },
  {
   "cell_type": "code",
   "execution_count": 5,
   "metadata": {
    "colab": {
     "base_uri": "https://localhost:8080/"
    },
    "executionInfo": {
     "elapsed": 110919,
     "status": "ok",
     "timestamp": 1748996699520,
     "user": {
      "displayName": "Kirtland Corregan",
      "userId": "12271392998891066272"
     },
     "user_tz": 240
    },
    "id": "ioU4bGbQJW3R",
    "outputId": "f382e17d-8642-4c41-96d3-3b770524d569"
   },
   "outputs": [
    {
     "name": "stdout",
     "output_type": "stream",
     "text": [
      "Downloaded: 2006q1_form345.zip\n",
      "Downloaded: 2006q2_form345.zip\n",
      "Downloaded: 2006q3_form345.zip\n",
      "Downloaded: 2006q4_form345.zip\n",
      "Downloaded: 2007q1_form345.zip\n",
      "Downloaded: 2007q2_form345.zip\n",
      "Downloaded: 2007q3_form345.zip\n",
      "Downloaded: 2007q4_form345.zip\n",
      "Downloaded: 2008q1_form345.zip\n",
      "Downloaded: 2008q2_form345.zip\n",
      "Downloaded: 2008q3_form345.zip\n",
      "Downloaded: 2008q4_form345.zip\n",
      "Downloaded: 2009q1_form345.zip\n",
      "Downloaded: 2009q2_form345.zip\n",
      "Downloaded: 2009q3_form345.zip\n",
      "Downloaded: 2009q4_form345.zip\n",
      "Downloaded: 2010q1_form345.zip\n",
      "Downloaded: 2010q2_form345.zip\n",
      "Downloaded: 2010q3_form345.zip\n",
      "Downloaded: 2010q4_form345.zip\n",
      "Downloaded: 2011q1_form345.zip\n",
      "Downloaded: 2011q2_form345.zip\n",
      "Downloaded: 2011q3_form345.zip\n",
      "Downloaded: 2011q4_form345.zip\n",
      "Downloaded: 2012q1_form345.zip\n",
      "Downloaded: 2012q2_form345.zip\n",
      "Downloaded: 2012q3_form345.zip\n",
      "Downloaded: 2012q4_form345.zip\n",
      "Downloaded: 2013q1_form345.zip\n",
      "Downloaded: 2013q2_form345.zip\n",
      "Downloaded: 2013q3_form345.zip\n",
      "Downloaded: 2013q4_form345.zip\n",
      "Downloaded: 2014q1_form345.zip\n",
      "Downloaded: 2014q2_form345.zip\n",
      "Downloaded: 2014q3_form345.zip\n",
      "Downloaded: 2014q4_form345.zip\n",
      "Downloaded: 2015q1_form345.zip\n",
      "Downloaded: 2015q2_form345.zip\n",
      "Downloaded: 2015q3_form345.zip\n",
      "Downloaded: 2015q4_form345.zip\n",
      "Downloaded: 2016q1_form345.zip\n",
      "Downloaded: 2016q2_form345.zip\n",
      "Downloaded: 2016q3_form345.zip\n",
      "Downloaded: 2016q4_form345.zip\n",
      "Downloaded: 2017q1_form345.zip\n",
      "Downloaded: 2017q2_form345.zip\n",
      "Downloaded: 2017q3_form345.zip\n",
      "Downloaded: 2017q4_form345.zip\n",
      "Downloaded: 2018q1_form345.zip\n",
      "Downloaded: 2018q2_form345.zip\n",
      "Downloaded: 2018q3_form345.zip\n",
      "Downloaded: 2018q4_form345.zip\n",
      "Downloaded: 2019q1_form345.zip\n",
      "Downloaded: 2019q2_form345.zip\n",
      "Downloaded: 2019q3_form345.zip\n",
      "Downloaded: 2019q4_form345.zip\n",
      "Downloaded: 2020q1_form345.zip\n",
      "Downloaded: 2020q2_form345.zip\n",
      "Downloaded: 2020q3_form345.zip\n",
      "Downloaded: 2020q4_form345.zip\n",
      "Downloaded: 2021q1_form345.zip\n",
      "Downloaded: 2021q2_form345.zip\n",
      "Downloaded: 2021q3_form345.zip\n",
      "Downloaded: 2021q4_form345.zip\n",
      "Downloaded: 2022q1_form345.zip\n",
      "Downloaded: 2022q2_form345.zip\n",
      "Downloaded: 2022q3_form345.zip\n",
      "Downloaded: 2022q4_form345.zip\n",
      "Downloaded: 2023q1_form345.zip\n",
      "Downloaded: 2023q2_form345.zip\n",
      "Downloaded: 2023q3_form345.zip\n",
      "Downloaded: 2023q4_form345.zip\n",
      "Downloaded: 2024q1_form345.zip\n",
      "Downloaded: 2024q2_form345.zip\n",
      "Downloaded: 2024q3_form345.zip\n",
      "Downloaded: 2024q4_form345.zip\n",
      "Downloaded: 2025q1_form345.zip\n",
      "\n",
      " All zip files downloaded successfully.\n"
     ]
    }
   ],
   "source": [
    "download_sec_zips()"
   ]
  }
 ],
 "metadata": {
  "colab": {
   "provenance": []
  },
  "kernelspec": {
   "display_name": "InsiderTrading",
   "language": "python",
   "name": "python3"
  },
  "language_info": {
   "codemirror_mode": {
    "name": "ipython",
    "version": 3
   },
   "file_extension": ".py",
   "mimetype": "text/x-python",
   "name": "python",
   "nbconvert_exporter": "python",
   "pygments_lexer": "ipython3",
   "version": "3.13.3"
  }
 },
 "nbformat": 4,
 "nbformat_minor": 0
}
